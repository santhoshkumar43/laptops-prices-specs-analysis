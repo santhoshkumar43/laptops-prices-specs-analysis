{
  "cells": [
    {
      "cell_type": "markdown",
      "metadata": {
        "id": "view-in-github",
        "colab_type": "text"
      },
      "source": [
        "<a href=\"https://colab.research.google.com/github/santhoshkumar43/laptops-prices-specs-analysis/blob/main/laptop_prices_specs_eda.ipynb\" target=\"_parent\"><img src=\"https://colab.research.google.com/assets/colab-badge.svg\" alt=\"Open In Colab\"/></a>"
      ]
    },
    {
      "cell_type": "code",
      "execution_count": 2,
      "id": "89b0382d",
      "metadata": {
        "id": "89b0382d"
      },
      "outputs": [],
      "source": [
        "import pandas as pd\n",
        "import numpy as np\n",
        "import seaborn as sns\n",
        "import matplotlib.pyplot as plt"
      ]
    },
    {
      "cell_type": "code",
      "execution_count": 3,
      "id": "d01c3fd9",
      "metadata": {
        "id": "d01c3fd9"
      },
      "outputs": [],
      "source": [
        "file = pd.read_excel(\"laptops2.xlsx\")"
      ]
    },
    {
      "cell_type": "code",
      "execution_count": 4,
      "id": "6d8b6f5c",
      "metadata": {
        "colab": {
          "base_uri": "https://localhost:8080/"
        },
        "id": "6d8b6f5c",
        "outputId": "ac78ec94-bf3c-46e3-90b3-5ba538fb6c87"
      },
      "outputs": [
        {
          "output_type": "stream",
          "name": "stdout",
          "text": [
            "<class 'pandas.core.frame.DataFrame'>\n",
            "RangeIndex: 1303 entries, 0 to 1302\n",
            "Data columns (total 13 columns):\n",
            " #   Column                    Non-Null Count  Dtype \n",
            "---  ------                    --------------  ----- \n",
            " 0   Manufacturer              1303 non-null   object\n",
            " 1   Model Name                1303 non-null   object\n",
            " 2   Category                  1303 non-null   object\n",
            " 3   Screen Size               1303 non-null   object\n",
            " 4   Screen                    1303 non-null   object\n",
            " 5   CPU                       1303 non-null   object\n",
            " 6   RAM                       1303 non-null   object\n",
            " 7    Storage                  1303 non-null   object\n",
            " 8   GPU                       1303 non-null   object\n",
            " 9   Operating System          1303 non-null   object\n",
            " 10  Operating System Version  1133 non-null   object\n",
            " 11  Weight                    1303 non-null   object\n",
            " 12  Price (Euros)             1303 non-null   object\n",
            "dtypes: object(13)\n",
            "memory usage: 132.5+ KB\n"
          ]
        }
      ],
      "source": [
        "file.info()"
      ]
    },
    {
      "cell_type": "code",
      "execution_count": null,
      "id": "e93a6977",
      "metadata": {
        "id": "e93a6977"
      },
      "outputs": [],
      "source": [
        "\n",
        "     "
      ]
    },
    {
      "cell_type": "code",
      "execution_count": null,
      "id": "83813c72",
      "metadata": {
        "id": "83813c72"
      },
      "outputs": [],
      "source": []
    },
    {
      "cell_type": "code",
      "execution_count": 5,
      "id": "438e877b",
      "metadata": {
        "colab": {
          "base_uri": "https://localhost:8080/"
        },
        "id": "438e877b",
        "outputId": "ec9e25f9-8e5f-4a71-e26d-ea67b6e174b8"
      },
      "outputs": [
        {
          "output_type": "execute_result",
          "data": {
            "text/plain": [
              "0       1339,69\n",
              "1        898,94\n",
              "2        575,00\n",
              "3       2537,45\n",
              "4       1803,60\n",
              "         ...   \n",
              "1298     638,00\n",
              "1299    1499,00\n",
              "1300     229,00\n",
              "1301     764,00\n",
              "1302     369,00\n",
              "Name: Price (Euros), Length: 1303, dtype: object"
            ]
          },
          "metadata": {},
          "execution_count": 5
        }
      ],
      "source": [
        "file['Price (Euros)'] \n"
      ]
    },
    {
      "cell_type": "code",
      "source": [],
      "metadata": {
        "id": "c0cwBu5w1SZZ"
      },
      "id": "c0cwBu5w1SZZ",
      "execution_count": null,
      "outputs": []
    },
    {
      "cell_type": "markdown",
      "source": [
        "# New Section"
      ],
      "metadata": {
        "id": "djuOPGCP1TYZ"
      },
      "id": "djuOPGCP1TYZ"
    },
    {
      "cell_type": "markdown",
      "source": [
        "# New Section"
      ],
      "metadata": {
        "id": "ZI8C2nxM1URi"
      },
      "id": "ZI8C2nxM1URi"
    },
    {
      "cell_type": "code",
      "execution_count": null,
      "id": "52f6969e",
      "metadata": {
        "id": "52f6969e",
        "outputId": "06a89ed2-f13a-46cf-9e4f-65c1f66c77d7"
      },
      "outputs": [
        {
          "data": {
            "text/html": [
              "<div>\n",
              "<style scoped>\n",
              "    .dataframe tbody tr th:only-of-type {\n",
              "        vertical-align: middle;\n",
              "    }\n",
              "\n",
              "    .dataframe tbody tr th {\n",
              "        vertical-align: top;\n",
              "    }\n",
              "\n",
              "    .dataframe thead th {\n",
              "        text-align: right;\n",
              "    }\n",
              "</style>\n",
              "<table border=\"1\" class=\"dataframe\">\n",
              "  <thead>\n",
              "    <tr style=\"text-align: right;\">\n",
              "      <th></th>\n",
              "      <th>Manufacturer</th>\n",
              "      <th>Model Name</th>\n",
              "      <th>Category</th>\n",
              "      <th>Screen Size</th>\n",
              "      <th>Screen</th>\n",
              "      <th>CPU</th>\n",
              "      <th>RAM</th>\n",
              "      <th>Storage</th>\n",
              "      <th>GPU</th>\n",
              "      <th>Operating System</th>\n",
              "      <th>Operating System Version</th>\n",
              "      <th>Weight</th>\n",
              "      <th>Price (Euros)</th>\n",
              "    </tr>\n",
              "  </thead>\n",
              "  <tbody>\n",
              "    <tr>\n",
              "      <th>0</th>\n",
              "      <td>Apple</td>\n",
              "      <td>MacBook Pro</td>\n",
              "      <td>Ultrabook</td>\n",
              "      <td>13.3\"</td>\n",
              "      <td>IPS Panel Retina Display 2560x1600</td>\n",
              "      <td>Intel Core i5 2.3GHz</td>\n",
              "      <td>8GB</td>\n",
              "      <td>128GB SSD</td>\n",
              "      <td>Intel Iris Plus Graphics 640</td>\n",
              "      <td>macOS</td>\n",
              "      <td>NaN</td>\n",
              "      <td>1.37kg</td>\n",
              "      <td>1339,69</td>\n",
              "    </tr>\n",
              "    <tr>\n",
              "      <th>1</th>\n",
              "      <td>Apple</td>\n",
              "      <td>Macbook Air</td>\n",
              "      <td>Ultrabook</td>\n",
              "      <td>13.3\"</td>\n",
              "      <td>1440x900</td>\n",
              "      <td>Intel Core i5 1.8GHz</td>\n",
              "      <td>8GB</td>\n",
              "      <td>128GB Flash Storage</td>\n",
              "      <td>Intel HD Graphics 6000</td>\n",
              "      <td>macOS</td>\n",
              "      <td>NaN</td>\n",
              "      <td>1.34kg</td>\n",
              "      <td>898,94</td>\n",
              "    </tr>\n",
              "    <tr>\n",
              "      <th>2</th>\n",
              "      <td>HP</td>\n",
              "      <td>250 G6</td>\n",
              "      <td>Notebook</td>\n",
              "      <td>15.6\"</td>\n",
              "      <td>Full HD 1920x1080</td>\n",
              "      <td>Intel Core i5 7200U 2.5GHz</td>\n",
              "      <td>8GB</td>\n",
              "      <td>256GB SSD</td>\n",
              "      <td>Intel HD Graphics 620</td>\n",
              "      <td>No OS</td>\n",
              "      <td>NaN</td>\n",
              "      <td>1.86kg</td>\n",
              "      <td>575,00</td>\n",
              "    </tr>\n",
              "    <tr>\n",
              "      <th>3</th>\n",
              "      <td>Apple</td>\n",
              "      <td>MacBook Pro</td>\n",
              "      <td>Ultrabook</td>\n",
              "      <td>15.4\"</td>\n",
              "      <td>IPS Panel Retina Display 2880x1800</td>\n",
              "      <td>Intel Core i7 2.7GHz</td>\n",
              "      <td>16GB</td>\n",
              "      <td>512GB SSD</td>\n",
              "      <td>AMD Radeon Pro 455</td>\n",
              "      <td>macOS</td>\n",
              "      <td>NaN</td>\n",
              "      <td>1.83kg</td>\n",
              "      <td>2537,45</td>\n",
              "    </tr>\n",
              "    <tr>\n",
              "      <th>4</th>\n",
              "      <td>Apple</td>\n",
              "      <td>MacBook Pro</td>\n",
              "      <td>Ultrabook</td>\n",
              "      <td>13.3\"</td>\n",
              "      <td>IPS Panel Retina Display 2560x1600</td>\n",
              "      <td>Intel Core i5 3.1GHz</td>\n",
              "      <td>8GB</td>\n",
              "      <td>256GB SSD</td>\n",
              "      <td>Intel Iris Plus Graphics 650</td>\n",
              "      <td>macOS</td>\n",
              "      <td>NaN</td>\n",
              "      <td>1.37kg</td>\n",
              "      <td>1803,60</td>\n",
              "    </tr>\n",
              "  </tbody>\n",
              "</table>\n",
              "</div>"
            ],
            "text/plain": [
              "  Manufacturer   Model Name   Category Screen Size  \\\n",
              "0        Apple  MacBook Pro  Ultrabook       13.3\"   \n",
              "1        Apple  Macbook Air  Ultrabook       13.3\"   \n",
              "2           HP       250 G6   Notebook       15.6\"   \n",
              "3        Apple  MacBook Pro  Ultrabook       15.4\"   \n",
              "4        Apple  MacBook Pro  Ultrabook       13.3\"   \n",
              "\n",
              "                               Screen                         CPU   RAM  \\\n",
              "0  IPS Panel Retina Display 2560x1600        Intel Core i5 2.3GHz   8GB   \n",
              "1                            1440x900        Intel Core i5 1.8GHz   8GB   \n",
              "2                   Full HD 1920x1080  Intel Core i5 7200U 2.5GHz   8GB   \n",
              "3  IPS Panel Retina Display 2880x1800        Intel Core i7 2.7GHz  16GB   \n",
              "4  IPS Panel Retina Display 2560x1600        Intel Core i5 3.1GHz   8GB   \n",
              "\n",
              "               Storage                           GPU Operating System  \\\n",
              "0            128GB SSD  Intel Iris Plus Graphics 640            macOS   \n",
              "1  128GB Flash Storage        Intel HD Graphics 6000            macOS   \n",
              "2            256GB SSD         Intel HD Graphics 620            No OS   \n",
              "3            512GB SSD            AMD Radeon Pro 455            macOS   \n",
              "4            256GB SSD  Intel Iris Plus Graphics 650            macOS   \n",
              "\n",
              "  Operating System Version  Weight Price (Euros)  \n",
              "0                      NaN  1.37kg       1339,69  \n",
              "1                      NaN  1.34kg        898,94  \n",
              "2                      NaN  1.86kg        575,00  \n",
              "3                      NaN  1.83kg       2537,45  \n",
              "4                      NaN  1.37kg       1803,60  "
            ]
          },
          "execution_count": 124,
          "metadata": {},
          "output_type": "execute_result"
        }
      ],
      "source": [
        "file.head()"
      ]
    },
    {
      "cell_type": "code",
      "execution_count": null,
      "id": "b478a9d9",
      "metadata": {
        "id": "b478a9d9",
        "outputId": "ebedc51e-bdd4-4ad2-e301-09d86834c53d"
      },
      "outputs": [
        {
          "data": {
            "text/html": [
              "<div>\n",
              "<style scoped>\n",
              "    .dataframe tbody tr th:only-of-type {\n",
              "        vertical-align: middle;\n",
              "    }\n",
              "\n",
              "    .dataframe tbody tr th {\n",
              "        vertical-align: top;\n",
              "    }\n",
              "\n",
              "    .dataframe thead th {\n",
              "        text-align: right;\n",
              "    }\n",
              "</style>\n",
              "<table border=\"1\" class=\"dataframe\">\n",
              "  <thead>\n",
              "    <tr style=\"text-align: right;\">\n",
              "      <th></th>\n",
              "      <th>Manufacturer</th>\n",
              "      <th>Model Name</th>\n",
              "      <th>Category</th>\n",
              "      <th>Screen Size</th>\n",
              "      <th>Screen</th>\n",
              "      <th>CPU</th>\n",
              "      <th>RAM</th>\n",
              "      <th>Storage</th>\n",
              "      <th>GPU</th>\n",
              "      <th>Operating System</th>\n",
              "      <th>Operating System Version</th>\n",
              "      <th>Weight</th>\n",
              "      <th>Price (Euros)</th>\n",
              "    </tr>\n",
              "  </thead>\n",
              "  <tbody>\n",
              "    <tr>\n",
              "      <th>1298</th>\n",
              "      <td>Lenovo</td>\n",
              "      <td>Yoga 500-14ISK</td>\n",
              "      <td>2 in 1 Convertible</td>\n",
              "      <td>14.0\"</td>\n",
              "      <td>IPS Panel Full HD / Touchscreen 1920x1080</td>\n",
              "      <td>Intel Core i7 6500U 2.5GHz</td>\n",
              "      <td>4GB</td>\n",
              "      <td>128GB SSD</td>\n",
              "      <td>Intel HD Graphics 520</td>\n",
              "      <td>Windows</td>\n",
              "      <td>10</td>\n",
              "      <td>1.8kg</td>\n",
              "      <td>638,00</td>\n",
              "    </tr>\n",
              "    <tr>\n",
              "      <th>1299</th>\n",
              "      <td>Lenovo</td>\n",
              "      <td>Yoga 900-13ISK</td>\n",
              "      <td>2 in 1 Convertible</td>\n",
              "      <td>13.3\"</td>\n",
              "      <td>IPS Panel Quad HD+ / Touchscreen 3200x1800</td>\n",
              "      <td>Intel Core i7 6500U 2.5GHz</td>\n",
              "      <td>16GB</td>\n",
              "      <td>512GB SSD</td>\n",
              "      <td>Intel HD Graphics 520</td>\n",
              "      <td>Windows</td>\n",
              "      <td>10</td>\n",
              "      <td>1.3kg</td>\n",
              "      <td>1499,00</td>\n",
              "    </tr>\n",
              "    <tr>\n",
              "      <th>1300</th>\n",
              "      <td>Lenovo</td>\n",
              "      <td>IdeaPad 100S-14IBR</td>\n",
              "      <td>Notebook</td>\n",
              "      <td>14.0\"</td>\n",
              "      <td>1366x768</td>\n",
              "      <td>Intel Celeron Dual Core N3050 1.6GHz</td>\n",
              "      <td>2GB</td>\n",
              "      <td>64GB Flash Storage</td>\n",
              "      <td>Intel HD Graphics</td>\n",
              "      <td>Windows</td>\n",
              "      <td>10</td>\n",
              "      <td>1.5kg</td>\n",
              "      <td>229,00</td>\n",
              "    </tr>\n",
              "    <tr>\n",
              "      <th>1301</th>\n",
              "      <td>HP</td>\n",
              "      <td>15-AC110nv (i7-6500U/6GB/1TB/Radeon</td>\n",
              "      <td>Notebook</td>\n",
              "      <td>15.6\"</td>\n",
              "      <td>1366x768</td>\n",
              "      <td>Intel Core i7 6500U 2.5GHz</td>\n",
              "      <td>6GB</td>\n",
              "      <td>1TB HDD</td>\n",
              "      <td>AMD Radeon R5 M330</td>\n",
              "      <td>Windows</td>\n",
              "      <td>10</td>\n",
              "      <td>2.19kg</td>\n",
              "      <td>764,00</td>\n",
              "    </tr>\n",
              "    <tr>\n",
              "      <th>1302</th>\n",
              "      <td>Asus</td>\n",
              "      <td>X553SA-XX031T (N3050/4GB/500GB/W10)</td>\n",
              "      <td>Notebook</td>\n",
              "      <td>15.6\"</td>\n",
              "      <td>1366x768</td>\n",
              "      <td>Intel Celeron Dual Core N3050 1.6GHz</td>\n",
              "      <td>4GB</td>\n",
              "      <td>500GB HDD</td>\n",
              "      <td>Intel HD Graphics</td>\n",
              "      <td>Windows</td>\n",
              "      <td>10</td>\n",
              "      <td>2.2kg</td>\n",
              "      <td>369,00</td>\n",
              "    </tr>\n",
              "  </tbody>\n",
              "</table>\n",
              "</div>"
            ],
            "text/plain": [
              "     Manufacturer                           Model Name            Category  \\\n",
              "1298       Lenovo                       Yoga 500-14ISK  2 in 1 Convertible   \n",
              "1299       Lenovo                       Yoga 900-13ISK  2 in 1 Convertible   \n",
              "1300       Lenovo                   IdeaPad 100S-14IBR            Notebook   \n",
              "1301           HP  15-AC110nv (i7-6500U/6GB/1TB/Radeon            Notebook   \n",
              "1302         Asus  X553SA-XX031T (N3050/4GB/500GB/W10)            Notebook   \n",
              "\n",
              "     Screen Size                                      Screen  \\\n",
              "1298       14.0\"   IPS Panel Full HD / Touchscreen 1920x1080   \n",
              "1299       13.3\"  IPS Panel Quad HD+ / Touchscreen 3200x1800   \n",
              "1300       14.0\"                                    1366x768   \n",
              "1301       15.6\"                                    1366x768   \n",
              "1302       15.6\"                                    1366x768   \n",
              "\n",
              "                                       CPU   RAM             Storage  \\\n",
              "1298            Intel Core i7 6500U 2.5GHz   4GB           128GB SSD   \n",
              "1299            Intel Core i7 6500U 2.5GHz  16GB           512GB SSD   \n",
              "1300  Intel Celeron Dual Core N3050 1.6GHz   2GB  64GB Flash Storage   \n",
              "1301            Intel Core i7 6500U 2.5GHz   6GB             1TB HDD   \n",
              "1302  Intel Celeron Dual Core N3050 1.6GHz   4GB           500GB HDD   \n",
              "\n",
              "                        GPU Operating System Operating System Version  Weight  \\\n",
              "1298  Intel HD Graphics 520          Windows                       10   1.8kg   \n",
              "1299  Intel HD Graphics 520          Windows                       10   1.3kg   \n",
              "1300      Intel HD Graphics          Windows                       10   1.5kg   \n",
              "1301     AMD Radeon R5 M330          Windows                       10  2.19kg   \n",
              "1302      Intel HD Graphics          Windows                       10   2.2kg   \n",
              "\n",
              "     Price (Euros)  \n",
              "1298        638,00  \n",
              "1299       1499,00  \n",
              "1300        229,00  \n",
              "1301        764,00  \n",
              "1302        369,00  "
            ]
          },
          "execution_count": 125,
          "metadata": {},
          "output_type": "execute_result"
        }
      ],
      "source": [
        "file.tail()"
      ]
    },
    {
      "cell_type": "code",
      "execution_count": null,
      "id": "dde57888",
      "metadata": {
        "scrolled": true,
        "id": "dde57888",
        "outputId": "0da0a8bd-f004-4e3e-e4af-847449542a41"
      },
      "outputs": [
        {
          "data": {
            "text/html": [
              "<div>\n",
              "<style scoped>\n",
              "    .dataframe tbody tr th:only-of-type {\n",
              "        vertical-align: middle;\n",
              "    }\n",
              "\n",
              "    .dataframe tbody tr th {\n",
              "        vertical-align: top;\n",
              "    }\n",
              "\n",
              "    .dataframe thead th {\n",
              "        text-align: right;\n",
              "    }\n",
              "</style>\n",
              "<table border=\"1\" class=\"dataframe\">\n",
              "  <thead>\n",
              "    <tr style=\"text-align: right;\">\n",
              "      <th></th>\n",
              "      <th>Manufacturer</th>\n",
              "      <th>Model Name</th>\n",
              "      <th>Category</th>\n",
              "      <th>Screen Size</th>\n",
              "      <th>Screen</th>\n",
              "      <th>CPU</th>\n",
              "      <th>RAM</th>\n",
              "      <th>Storage</th>\n",
              "      <th>GPU</th>\n",
              "      <th>Operating System</th>\n",
              "      <th>Operating System Version</th>\n",
              "      <th>Weight</th>\n",
              "      <th>Price (Euros)</th>\n",
              "    </tr>\n",
              "  </thead>\n",
              "  <tbody>\n",
              "    <tr>\n",
              "      <th>count</th>\n",
              "      <td>1303</td>\n",
              "      <td>1303</td>\n",
              "      <td>1303</td>\n",
              "      <td>1303</td>\n",
              "      <td>1303</td>\n",
              "      <td>1303</td>\n",
              "      <td>1303</td>\n",
              "      <td>1303</td>\n",
              "      <td>1303</td>\n",
              "      <td>1303</td>\n",
              "      <td>1133</td>\n",
              "      <td>1303</td>\n",
              "      <td>1303</td>\n",
              "    </tr>\n",
              "    <tr>\n",
              "      <th>unique</th>\n",
              "      <td>19</td>\n",
              "      <td>618</td>\n",
              "      <td>6</td>\n",
              "      <td>18</td>\n",
              "      <td>40</td>\n",
              "      <td>118</td>\n",
              "      <td>9</td>\n",
              "      <td>38</td>\n",
              "      <td>110</td>\n",
              "      <td>7</td>\n",
              "      <td>4</td>\n",
              "      <td>179</td>\n",
              "      <td>791</td>\n",
              "    </tr>\n",
              "    <tr>\n",
              "      <th>top</th>\n",
              "      <td>Dell</td>\n",
              "      <td>XPS 13</td>\n",
              "      <td>Notebook</td>\n",
              "      <td>15.6\"</td>\n",
              "      <td>Full HD 1920x1080</td>\n",
              "      <td>Intel Core i5 7200U 2.5GHz</td>\n",
              "      <td>8GB</td>\n",
              "      <td>256GB SSD</td>\n",
              "      <td>Intel HD Graphics 620</td>\n",
              "      <td>Windows</td>\n",
              "      <td>10</td>\n",
              "      <td>2.2kg</td>\n",
              "      <td>1499,00</td>\n",
              "    </tr>\n",
              "    <tr>\n",
              "      <th>freq</th>\n",
              "      <td>297</td>\n",
              "      <td>30</td>\n",
              "      <td>727</td>\n",
              "      <td>665</td>\n",
              "      <td>507</td>\n",
              "      <td>190</td>\n",
              "      <td>619</td>\n",
              "      <td>412</td>\n",
              "      <td>281</td>\n",
              "      <td>1125</td>\n",
              "      <td>1072</td>\n",
              "      <td>121</td>\n",
              "      <td>14</td>\n",
              "    </tr>\n",
              "  </tbody>\n",
              "</table>\n",
              "</div>"
            ],
            "text/plain": [
              "       Manufacturer Model Name  Category Screen Size             Screen  \\\n",
              "count          1303       1303      1303        1303               1303   \n",
              "unique           19        618         6          18                 40   \n",
              "top            Dell     XPS 13  Notebook       15.6\"  Full HD 1920x1080   \n",
              "freq            297         30       727         665                507   \n",
              "\n",
              "                               CPU   RAM    Storage                    GPU  \\\n",
              "count                         1303  1303       1303                   1303   \n",
              "unique                         118     9         38                    110   \n",
              "top     Intel Core i5 7200U 2.5GHz   8GB  256GB SSD  Intel HD Graphics 620   \n",
              "freq                           190   619        412                    281   \n",
              "\n",
              "       Operating System  Operating System Version Weight Price (Euros)  \n",
              "count              1303                      1133   1303          1303  \n",
              "unique                7                         4    179           791  \n",
              "top             Windows                        10  2.2kg       1499,00  \n",
              "freq               1125                      1072    121            14  "
            ]
          },
          "execution_count": 126,
          "metadata": {},
          "output_type": "execute_result"
        }
      ],
      "source": [
        "file.describe()"
      ]
    },
    {
      "cell_type": "code",
      "execution_count": null,
      "id": "0d17a725",
      "metadata": {
        "id": "0d17a725"
      },
      "outputs": [],
      "source": []
    },
    {
      "cell_type": "code",
      "execution_count": null,
      "id": "70a7f02f",
      "metadata": {
        "id": "70a7f02f",
        "outputId": "69e3ee24-f3ff-48f1-981e-ae58423209dc"
      },
      "outputs": [
        {
          "data": {
            "text/plain": [
              "Manufacturer                  0\n",
              "Model Name                    0\n",
              "Category                      0\n",
              "Screen Size                   0\n",
              "Screen                        0\n",
              "CPU                           0\n",
              "RAM                           0\n",
              " Storage                      0\n",
              "GPU                           0\n",
              "Operating System              0\n",
              "Operating System Version    170\n",
              "Weight                        0\n",
              "Price (Euros)                 0\n",
              "dtype: int64"
            ]
          },
          "execution_count": 127,
          "metadata": {},
          "output_type": "execute_result"
        }
      ],
      "source": [
        "file.isnull().sum()"
      ]
    },
    {
      "cell_type": "code",
      "execution_count": null,
      "id": "84e9135b",
      "metadata": {
        "id": "84e9135b",
        "outputId": "25307ee6-71d9-44c2-d701-2ea15450a25c"
      },
      "outputs": [
        {
          "data": {
            "text/plain": [
              "28"
            ]
          },
          "execution_count": 128,
          "metadata": {},
          "output_type": "execute_result"
        }
      ],
      "source": [
        "file.duplicated().sum()"
      ]
    },
    {
      "cell_type": "code",
      "execution_count": null,
      "id": "fee07ac2",
      "metadata": {
        "id": "fee07ac2"
      },
      "outputs": [],
      "source": [
        "file=file.drop_duplicates(keep='last')"
      ]
    },
    {
      "cell_type": "code",
      "execution_count": null,
      "id": "b06b57d2",
      "metadata": {
        "id": "b06b57d2",
        "outputId": "b07e86aa-0148-46fb-beee-e0b47d236030"
      },
      "outputs": [
        {
          "data": {
            "text/plain": [
              "0"
            ]
          },
          "execution_count": 130,
          "metadata": {},
          "output_type": "execute_result"
        }
      ],
      "source": [
        "file.duplicated().sum()"
      ]
    },
    {
      "cell_type": "code",
      "execution_count": null,
      "id": "db921c6c",
      "metadata": {
        "id": "db921c6c",
        "outputId": "6af06fc0-a0fe-4d1c-d775-07ef6a2b0774"
      },
      "outputs": [
        {
          "data": {
            "text/plain": [
              "0       1339,69\n",
              "1        898,94\n",
              "2        575,00\n",
              "3       2537,45\n",
              "4       1803,60\n",
              "         ...   \n",
              "1298     638,00\n",
              "1299    1499,00\n",
              "1300     229,00\n",
              "1301     764,00\n",
              "1302     369,00\n",
              "Name: Price (Euros), Length: 1275, dtype: object"
            ]
          },
          "execution_count": 131,
          "metadata": {},
          "output_type": "execute_result"
        }
      ],
      "source": [
        "\n",
        "file['Price (Euros)'] = file['Price (Euros)'].replace(',', '')\n",
        "file['Price (Euros)']"
      ]
    },
    {
      "cell_type": "code",
      "execution_count": null,
      "id": "d99bb480",
      "metadata": {
        "id": "d99bb480",
        "outputId": "15866df8-5eb4-4442-bd41-5146a256f1cb"
      },
      "outputs": [
        {
          "data": {
            "text/plain": [
              "0       133969\n",
              "1       133969\n",
              "2       133969\n",
              "3       133969\n",
              "4       133969\n",
              "         ...  \n",
              "1298    133969\n",
              "1299    133969\n",
              "1300    133969\n",
              "1301    133969\n",
              "1302    133969\n",
              "Name: Price (Euros), Length: 1303, dtype: int32"
            ]
          },
          "execution_count": 99,
          "metadata": {},
          "output_type": "execute_result"
        }
      ],
      "source": [
        "X = file['Manufacturer'].unique()\n",
        "file['Price (Euros)']= file['Price (Euros)'].astype(int)\n",
        "Y"
      ]
    },
    {
      "cell_type": "code",
      "execution_count": null,
      "id": "3d598024",
      "metadata": {
        "id": "3d598024",
        "outputId": "dbe5139a-8752-4fd6-e544-0b67090ffdd6"
      },
      "outputs": [
        {
          "data": {
            "text/plain": [
              "Text(0.5, 1.0, 'Top 10 Expensive Laptop Brands')"
            ]
          },
          "execution_count": 98,
          "metadata": {},
          "output_type": "execute_result"
        },
        {
          "data": {
            "image/png": "[encoded data removed]",
            "text/plain": [
              "<Figure size 1296x576 with 1 Axes>"
            ]
          },
          "metadata": {
            "needs_background": "light"
          },
          "output_type": "display_data"
        }
      ],
      "source": [
        "top10 = file.nlargest(100,'Price (Euros)')\n",
        "plt.figure(figsize=(18,8))\n",
        "plt.bar(top10['Manufacturer'], top10['Price (Euros)'],color='gold',alpha=0.6)\n",
        "plt.ylabel('Price', fontsize = 10)\n",
        "plt.xlabel(\"Brand\", fontsize = 10)\n",
        "plt.title(\"Top 10 Expensive Laptop Brands\", fontsize = 20)"
      ]
    },
    {
      "cell_type": "code",
      "execution_count": 7,
      "id": "d015f88d",
      "metadata": {
        "id": "d015f88d"
      },
      "outputs": [],
      "source": []
    },
    {
      "cell_type": "code",
      "source": [],
      "metadata": {
        "id": "DGvu78CKyT7M"
      },
      "id": "DGvu78CKyT7M",
      "execution_count": null,
      "outputs": []
    }
  ],
  "metadata": {
    "kernelspec": {
      "display_name": "Python 3 (ipykernel)",
      "language": "python",
      "name": "python3"
    },
    "language_info": {
      "codemirror_mode": {
        "name": "ipython",
        "version": 3
      },
      "file_extension": ".py",
      "mimetype": "text/x-python",
      "name": "python",
      "nbconvert_exporter": "python",
      "pygments_lexer": "ipython3",
      "version": "3.9.7"
    },
    "colab": {
      "provenance": [],
      "include_colab_link": true
    }
  },
  "nbformat": 4,
  "nbformat_minor": 5
}